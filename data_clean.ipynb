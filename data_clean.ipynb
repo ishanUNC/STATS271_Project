{
 "cells": [
  {
   "cell_type": "code",
   "execution_count": 137,
   "metadata": {},
   "outputs": [],
   "source": [
    "import numpy as np\n",
    "import pandas as pd\n",
    "from sklearn.linear_model import LinearRegression\n",
    "from statsmodels.api import OLS\n",
    "import matplotlib.pyplot as plt"
   ]
  },
  {
   "cell_type": "code",
   "execution_count": 138,
   "metadata": {},
   "outputs": [],
   "source": [
    "df = pd.read_csv('hesitancy_estimates.csv')\n",
    "df = df.drop(['SVI Category', 'CVAC Level Of Concern'] + list(df.columns[-4:]), \n",
    "             axis=1)"
   ]
  },
  {
   "cell_type": "code",
   "execution_count": 139,
   "metadata": {},
   "outputs": [],
   "source": [
    "df.columns = ['FIPS', 'county', 'state', 'hesitant_pct', 'hesitant_unsure_pct',\n",
    "             'strongly_hesitant_pct', 'SVI', 'concern_level', 'fully_vaxxed_pct', \n",
    "              'hispanic_pct','NA_pct', 'asian_pct', 'black_pct', 'pi_pct', \n",
    "              'white_pct']\n",
    "\n",
    "df['aapi_pct'] = df['asian_pct'] + df['pi_pct']\n",
    "df = df.drop(['asian_pct', 'pi_pct'], axis=1)\n",
    "df['somewhat_hesitant_pct'] = df['hesitant_unsure_pct'] - df['strongly_hesitant_pct']\n",
    "df['eager_pct'] = 1 - df['hesitant_unsure_pct']"
   ]
  },
  {
   "cell_type": "code",
   "execution_count": 140,
   "metadata": {},
   "outputs": [],
   "source": [
    "df['SVI'] = df['SVI'].fillna(np.nanmedian(df['SVI']))"
   ]
  },
  {
   "cell_type": "code",
   "execution_count": 141,
   "metadata": {},
   "outputs": [],
   "source": [
    "df['eager_over_no'] = df['eager_pct'] / df['strongly_hesitant_pct']\n",
    "df['somewhat_over_no'] = df['somewhat_hesitant_pct'] / df['strongly_hesitant_pct']"
   ]
  },
  {
   "cell_type": "code",
   "execution_count": 147,
   "metadata": {},
   "outputs": [],
   "source": [
    "df.to_csv('cleaned_data.csv', index=None)"
   ]
  },
  {
   "cell_type": "code",
   "execution_count": 168,
   "metadata": {},
   "outputs": [],
   "source": [
    "X = df[['hispanic_pct','black_pct', 'white_pct']]\n",
    "Y = df['eager_over_no']#.values.reshape(-1,1)"
   ]
  },
  {
   "cell_type": "code",
   "execution_count": 169,
   "metadata": {},
   "outputs": [],
   "source": [
    "lin_fit = OLS(Y,X).fit()\n"
   ]
  },
  {
   "cell_type": "code",
   "execution_count": 170,
   "metadata": {},
   "outputs": [
    {
     "data": {
      "text/html": [
       "<table class=\"simpletable\">\n",
       "<caption>OLS Regression Results</caption>\n",
       "<tr>\n",
       "  <th>Dep. Variable:</th>      <td>eager_over_no</td>  <th>  R-squared (uncentered):</th>      <td>   0.825</td> \n",
       "</tr>\n",
       "<tr>\n",
       "  <th>Model:</th>                   <td>OLS</td>       <th>  Adj. R-squared (uncentered):</th> <td>   0.824</td> \n",
       "</tr>\n",
       "<tr>\n",
       "  <th>Method:</th>             <td>Least Squares</td>  <th>  F-statistic:       </th>          <td>   4919.</td> \n",
       "</tr>\n",
       "<tr>\n",
       "  <th>Date:</th>             <td>Wed, 02 Jun 2021</td> <th>  Prob (F-statistic):</th>           <td>  0.00</td>  \n",
       "</tr>\n",
       "<tr>\n",
       "  <th>Time:</th>                 <td>14:54:47</td>     <th>  Log-Likelihood:    </th>          <td> -9717.0</td> \n",
       "</tr>\n",
       "<tr>\n",
       "  <th>No. Observations:</th>      <td>  3142</td>      <th>  AIC:               </th>          <td>1.944e+04</td>\n",
       "</tr>\n",
       "<tr>\n",
       "  <th>Df Residuals:</th>          <td>  3139</td>      <th>  BIC:               </th>          <td>1.946e+04</td>\n",
       "</tr>\n",
       "<tr>\n",
       "  <th>Df Model:</th>              <td>     3</td>      <th>                     </th>              <td> </td>    \n",
       "</tr>\n",
       "<tr>\n",
       "  <th>Covariance Type:</th>      <td>nonrobust</td>    <th>                     </th>              <td> </td>    \n",
       "</tr>\n",
       "</table>\n",
       "<table class=\"simpletable\">\n",
       "<tr>\n",
       "        <td></td>          <th>coef</th>     <th>std err</th>      <th>t</th>      <th>P>|t|</th>  <th>[0.025</th>    <th>0.975]</th>  \n",
       "</tr>\n",
       "<tr>\n",
       "  <th>hispanic_pct</th> <td>   20.4632</td> <td>    0.626</td> <td>   32.703</td> <td> 0.000</td> <td>   19.236</td> <td>   21.690</td>\n",
       "</tr>\n",
       "<tr>\n",
       "  <th>black_pct</th>    <td>   10.4328</td> <td>    0.608</td> <td>   17.166</td> <td> 0.000</td> <td>    9.241</td> <td>   11.624</td>\n",
       "</tr>\n",
       "<tr>\n",
       "  <th>white_pct</th>    <td>   11.2597</td> <td>    0.140</td> <td>   80.218</td> <td> 0.000</td> <td>   10.985</td> <td>   11.535</td>\n",
       "</tr>\n",
       "</table>\n",
       "<table class=\"simpletable\">\n",
       "<tr>\n",
       "  <th>Omnibus:</th>       <td>1501.977</td> <th>  Durbin-Watson:     </th> <td>   1.673</td>\n",
       "</tr>\n",
       "<tr>\n",
       "  <th>Prob(Omnibus):</th>  <td> 0.000</td>  <th>  Jarque-Bera (JB):  </th> <td>9772.810</td>\n",
       "</tr>\n",
       "<tr>\n",
       "  <th>Skew:</th>           <td> 2.196</td>  <th>  Prob(JB):          </th> <td>    0.00</td>\n",
       "</tr>\n",
       "<tr>\n",
       "  <th>Kurtosis:</th>       <td>10.440</td>  <th>  Cond. No.          </th> <td>    5.34</td>\n",
       "</tr>\n",
       "</table><br/><br/>Warnings:<br/>[1] Standard Errors assume that the covariance matrix of the errors is correctly specified."
      ],
      "text/plain": [
       "<class 'statsmodels.iolib.summary.Summary'>\n",
       "\"\"\"\n",
       "                                 OLS Regression Results                                \n",
       "=======================================================================================\n",
       "Dep. Variable:          eager_over_no   R-squared (uncentered):                   0.825\n",
       "Model:                            OLS   Adj. R-squared (uncentered):              0.824\n",
       "Method:                 Least Squares   F-statistic:                              4919.\n",
       "Date:                Wed, 02 Jun 2021   Prob (F-statistic):                        0.00\n",
       "Time:                        14:54:47   Log-Likelihood:                         -9717.0\n",
       "No. Observations:                3142   AIC:                                  1.944e+04\n",
       "Df Residuals:                    3139   BIC:                                  1.946e+04\n",
       "Df Model:                           3                                                  \n",
       "Covariance Type:            nonrobust                                                  \n",
       "================================================================================\n",
       "                   coef    std err          t      P>|t|      [0.025      0.975]\n",
       "--------------------------------------------------------------------------------\n",
       "hispanic_pct    20.4632      0.626     32.703      0.000      19.236      21.690\n",
       "black_pct       10.4328      0.608     17.166      0.000       9.241      11.624\n",
       "white_pct       11.2597      0.140     80.218      0.000      10.985      11.535\n",
       "==============================================================================\n",
       "Omnibus:                     1501.977   Durbin-Watson:                   1.673\n",
       "Prob(Omnibus):                  0.000   Jarque-Bera (JB):             9772.810\n",
       "Skew:                           2.196   Prob(JB):                         0.00\n",
       "Kurtosis:                      10.440   Cond. No.                         5.34\n",
       "==============================================================================\n",
       "\n",
       "Warnings:\n",
       "[1] Standard Errors assume that the covariance matrix of the errors is correctly specified.\n",
       "\"\"\""
      ]
     },
     "execution_count": 170,
     "metadata": {},
     "output_type": "execute_result"
    }
   ],
   "source": [
    "lin_fit.summary()"
   ]
  },
  {
   "cell_type": "code",
   "execution_count": 172,
   "metadata": {},
   "outputs": [
    {
     "data": {
      "text/plain": [
       "array([20.46319094])"
      ]
     },
     "execution_count": 172,
     "metadata": {},
     "output_type": "execute_result"
    }
   ],
   "source": [
    "lin_fit.predict([1,0,0])"
   ]
  },
  {
   "cell_type": "code",
   "execution_count": null,
   "metadata": {},
   "outputs": [],
   "source": []
  }
 ],
 "metadata": {
  "kernelspec": {
   "display_name": "Python 3",
   "language": "python",
   "name": "python3"
  },
  "language_info": {
   "codemirror_mode": {
    "name": "ipython",
    "version": 3
   },
   "file_extension": ".py",
   "mimetype": "text/x-python",
   "name": "python",
   "nbconvert_exporter": "python",
   "pygments_lexer": "ipython3",
   "version": "3.7.6"
  }
 },
 "nbformat": 4,
 "nbformat_minor": 4
}
